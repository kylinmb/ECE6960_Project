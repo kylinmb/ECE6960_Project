{
 "cells": [
  {
   "cell_type": "markdown",
   "metadata": {},
   "source": [
    "### Initial Setup"
   ]
  },
  {
   "cell_type": "code",
   "execution_count": 1,
   "metadata": {},
   "outputs": [
    {
     "name": "stdout",
     "output_type": "stream",
     "text": [
      "Requirement already satisfied: matplotlib in /home/u0579755/env_dir/lib/python3.6/site-packages (3.0.2)\n",
      "Requirement already satisfied: python-dateutil>=2.1 in /home/u0579755/env_dir/lib/python3.6/site-packages (from matplotlib) (2.7.5)\n",
      "Requirement already satisfied: kiwisolver>=1.0.1 in /home/u0579755/env_dir/lib/python3.6/site-packages (from matplotlib) (1.0.1)\n",
      "Requirement already satisfied: cycler>=0.10 in /home/u0579755/env_dir/lib/python3.6/site-packages (from matplotlib) (0.10.0)\n",
      "Requirement already satisfied: numpy>=1.10.0 in /home/u0579755/env_dir/lib/python3.6/site-packages (from matplotlib) (1.16.0)\n",
      "Requirement already satisfied: pyparsing!=2.0.4,!=2.1.2,!=2.1.6,>=2.0.1 in /home/u0579755/env_dir/lib/python3.6/site-packages (from matplotlib) (2.3.1)\n",
      "Requirement already satisfied: six>=1.5 in /home/u0579755/env_dir/lib/python3.6/site-packages (from python-dateutil>=2.1->matplotlib) (1.12.0)\n",
      "Requirement already satisfied: setuptools in /home/u0579755/env_dir/lib/python3.6/site-packages (from kiwisolver>=1.0.1->matplotlib) (40.8.0)\n",
      "Requirement already satisfied: scikit-image in /home/u0579755/env_dir/lib/python3.6/site-packages (0.15.0)\n",
      "Requirement already satisfied: networkx>=2.0 in /home/u0579755/env_dir/lib/python3.6/site-packages (from scikit-image) (2.3)\n",
      "Requirement already satisfied: scipy>=0.17.0 in /home/u0579755/env_dir/lib/python3.6/site-packages (from scikit-image) (1.2.1)\n",
      "Requirement already satisfied: imageio>=2.0.1 in /home/u0579755/env_dir/lib/python3.6/site-packages (from scikit-image) (2.5.0)\n",
      "Requirement already satisfied: PyWavelets>=0.4.0 in /home/u0579755/env_dir/lib/python3.6/site-packages (from scikit-image) (1.0.3)\n",
      "Requirement already satisfied: pillow>=4.3.0 in /home/u0579755/env_dir/lib/python3.6/site-packages (from scikit-image) (5.4.1)\n",
      "Requirement already satisfied: matplotlib!=3.0.0,>=2.0.0 in /home/u0579755/env_dir/lib/python3.6/site-packages (from scikit-image) (3.0.2)\n",
      "Requirement already satisfied: decorator>=4.3.0 in /home/u0579755/env_dir/lib/python3.6/site-packages (from networkx>=2.0->scikit-image) (4.3.2)\n",
      "Requirement already satisfied: numpy>=1.8.2 in /home/u0579755/env_dir/lib/python3.6/site-packages (from scipy>=0.17.0->scikit-image) (1.16.0)\n",
      "Requirement already satisfied: pyparsing!=2.0.4,!=2.1.2,!=2.1.6,>=2.0.1 in /home/u0579755/env_dir/lib/python3.6/site-packages (from matplotlib!=3.0.0,>=2.0.0->scikit-image) (2.3.1)\n",
      "Requirement already satisfied: cycler>=0.10 in /home/u0579755/env_dir/lib/python3.6/site-packages (from matplotlib!=3.0.0,>=2.0.0->scikit-image) (0.10.0)\n",
      "Requirement already satisfied: kiwisolver>=1.0.1 in /home/u0579755/env_dir/lib/python3.6/site-packages (from matplotlib!=3.0.0,>=2.0.0->scikit-image) (1.0.1)\n",
      "Requirement already satisfied: python-dateutil>=2.1 in /home/u0579755/env_dir/lib/python3.6/site-packages (from matplotlib!=3.0.0,>=2.0.0->scikit-image) (2.7.5)\n",
      "Requirement already satisfied: six in /home/u0579755/env_dir/lib/python3.6/site-packages (from cycler>=0.10->matplotlib!=3.0.0,>=2.0.0->scikit-image) (1.12.0)\n",
      "Requirement already satisfied: setuptools in /home/u0579755/env_dir/lib/python3.6/site-packages (from kiwisolver>=1.0.1->matplotlib!=3.0.0,>=2.0.0->scikit-image) (40.8.0)\n",
      "Requirement already satisfied: scikit-learn in /home/u0579755/env_dir/lib/python3.6/site-packages (0.20.3)\n",
      "Requirement already satisfied: scipy>=0.13.3 in /home/u0579755/env_dir/lib/python3.6/site-packages (from scikit-learn) (1.2.1)\n",
      "Requirement already satisfied: numpy>=1.8.2 in /home/u0579755/env_dir/lib/python3.6/site-packages (from scikit-learn) (1.16.0)\n"
     ]
    }
   ],
   "source": [
    "# Install\n",
    "!pip3 install matplotlib\n",
    "!pip3 install scikit-image\n",
    "!pip3 install scikit-learn"
   ]
  },
  {
   "cell_type": "code",
   "execution_count": 2,
   "metadata": {},
   "outputs": [],
   "source": [
    "# Import\n",
    "import os \n",
    "import numpy as np\n",
    "import matplotlib.pyplot as plt\n",
    "%matplotlib inline\n",
    "import zipfile \n",
    "from skimage import io \n",
    "from torch.utils.data import Dataset\n",
    "import torch \n",
    "import pandas as pd \n",
    "from torchvision import transforms"
   ]
  },
  {
   "cell_type": "code",
   "execution_count": 3,
   "metadata": {},
   "outputs": [],
   "source": [
    "# System Check\n",
    "try:\n",
    "  import google.colab\n",
    "  from google.colab import drive\n",
    "  from google.colab import files\n",
    "  IN_COLAB = True\n",
    "except:\n",
    "  IN_COLAB = False\n",
    "try:\n",
    "    hostname = !hostname\n",
    "    if 'lab' in hostname[0] and '.eng.utah.edu' in hostname[0]:\n",
    "        IN_CADE = True\n",
    "    else:\n",
    "        IN_CADE = False\n",
    "except:\n",
    "    IN_CADE = False\n",
    "\n",
    "assert(not IN_CADE or not IN_COLAB)"
   ]
  },
  {
   "cell_type": "code",
   "execution_count": 4,
   "metadata": {},
   "outputs": [],
   "source": [
    "# Find GPU\n",
    "def define_gpu_to_use(minimum_memory_mb = 3800):\n",
    "    gpu_to_use = None\n",
    "    try: \n",
    "        os.environ['CUDA_VISIBLE_DEVICES']\n",
    "        print('GPU already assigned before: ' + str(os.environ['CUDA_VISIBLE_DEVICES']))\n",
    "        return\n",
    "    except:\n",
    "        pass\n",
    "    torch.cuda.empty_cache()\n",
    "    for i in range(16):\n",
    "        free_memory = !nvidia-smi --query-gpu=memory.free -i $i --format=csv,nounits,noheader\n",
    "        if free_memory[0] == 'No devices were found':\n",
    "            break\n",
    "        free_memory = int(free_memory[0])\n",
    "        if free_memory>minimum_memory_mb-500:\n",
    "            gpu_to_use = i\n",
    "            break\n",
    "    if gpu_to_use is None:\n",
    "        print('Could not find any GPU available with the required free memory of ' +str(minimum_memory_mb) + 'MB. Please use a different system for this assignment.')\n",
    "    else:\n",
    "        os.environ['CUDA_VISIBLE_DEVICES'] = str(gpu_to_use)\n",
    "        print('Chosen GPU: ' + str(gpu_to_use))\n",
    "        x = torch.rand((256,1024,minimum_memory_mb-500)).cuda()\n",
    "        x = torch.rand((1,1)).cuda()\n",
    "        del x"
   ]
  },
  {
   "cell_type": "code",
   "execution_count": 5,
   "metadata": {},
   "outputs": [
    {
     "name": "stdout",
     "output_type": "stream",
     "text": [
      "Chosen GPU: 0\n"
     ]
    }
   ],
   "source": [
    "\n",
    "if IN_CADE:\n",
    "    define_gpu_to_use()"
   ]
  },
  {
   "cell_type": "markdown",
   "metadata": {},
   "source": [
    "### Load Dataset and Visualize the data_set"
   ]
  },
  {
   "cell_type": "code",
   "execution_count": 6,
   "metadata": {},
   "outputs": [],
   "source": [
    "# Opens zip file and places data in datsets folder\n",
    "def open_zip(filename):\n",
    "    zip_ref = zipfile.ZipFile(filename, 'r')\n",
    "    zip_ref.extractall('datasets')\n",
    "    zip_ref.close()"
   ]
  },
  {
   "cell_type": "code",
   "execution_count": 7,
   "metadata": {},
   "outputs": [],
   "source": [
    "# Return index to split data by for train, val, and test\n",
    "def get_split(array_to_split, split):\n",
    "    np.random.seed(0)\n",
    "    np.random.shuffle(array_to_split)\n",
    "    np.random.seed()\n",
    "    if split == 'train':\n",
    "        array_to_split = array_to_split[:int(len(array_to_split)*0.7)]\n",
    "    elif split == 'val':\n",
    "        array_to_split = array_to_split[int(len(array_to_split)*0.7):int(len(array_to_split)*0.8)]\n",
    "    elif split == 'test':\n",
    "        array_to_split = array_to_split[int(len(array_to_split)*0.8):]\n",
    "    return array_to_split"
   ]
  },
  {
   "cell_type": "code",
   "execution_count": 18,
   "metadata": {},
   "outputs": [],
   "source": [
    "# Dataset class for truss dataset\n",
    "class TrussDataset(Dataset):\n",
    "    def __init__(self, csv_file, root_dir, split='train'):\n",
    "        self.root_dir = root_dir\n",
    "        self.split = split\n",
    "        # Get the split\n",
    "        all_attributes_frame = pd.read_csv(root_dir + csv_file)\n",
    "        ids = get_split(pd.unique(all_attributes_frame['ID']), split)\n",
    "        self.attributes_frame = all_attributes_frame[all_attributes_frame['ID'].isin(ids)]\n",
    "              \n",
    "    def __len__(self):\n",
    "        return len(self.attributes_frame)\n",
    "    \n",
    "    def __getitem__(self, idx):\n",
    "        image_name = os.path.join(self.root_dir, self.attributes_frame.iloc[idx, 1])\n",
    "        image = io.imread(image_name)\n",
    "        image = image.astype(np.float32)\n",
    "        image = image[:,:,:3]\n",
    "        image = image/255\n",
    "        image = np.swapaxes(image, 0, 2)\n",
    "        attributes = self.attributes_frame.iloc[idx, 2:].values\n",
    "        attributes = attributes.astype('float')\n",
    "        attribute_names = self.attributes_frame.columns[2:].values\n",
    "        sample = {'image': torch.tensor(image), 'attributes': attributes, 'attribute_names':attribute_names}\n",
    "        return sample"
   ]
  },
  {
   "cell_type": "code",
   "execution_count": 19,
   "metadata": {},
   "outputs": [],
   "source": [
    "# Open zip of dataset\n",
    "open_zip('trussData.zip')"
   ]
  },
  {
   "cell_type": "code",
   "execution_count": 20,
   "metadata": {},
   "outputs": [],
   "source": [
    "train_dataset = TrussDataset('truss_data.csv', 'datasets/trussData/')\n",
    "val_dataset = TrussDataset('truss_data.csv', 'datasets/trussData/', split='val')\n",
    "test_dataset = TrussDataset('truss_data.csv', 'datasets/trussData/', split='test')"
   ]
  },
  {
   "cell_type": "code",
   "execution_count": 25,
   "metadata": {},
   "outputs": [
    {
     "data": {
      "image/png": "[encoded data removed]",
      "text/plain": [
       "<Figure size 432x288 with 1 Axes>"
      ]
     },
     "metadata": {
      "needs_background": "light"
     },
     "output_type": "display_data"
    },
    {
     "data": {
      "image/png": "[encoded data removed]",
      "text/plain": [
       "<Figure size 432x288 with 1 Axes>"
      ]
     },
     "metadata": {
      "needs_background": "light"
     },
     "output_type": "display_data"
    },
    {
     "data": {
      "image/png": "[encoded data removed]",
      "text/plain": [
       "<Figure size 432x288 with 1 Axes>"
      ]
     },
     "metadata": {
      "needs_background": "light"
     },
     "output_type": "display_data"
    }
   ],
   "source": [
    "#Visualing a few cases of the training set\n",
    "for batch_idx, sample in enumerate(train_dataset):\n",
    "    if batch_idx%250 == 0: \n",
    "        plt.figure()\n",
    "        plt.title(str(sample['attribute_names']) + ' ' + str(sample['attributes']))\n",
    "        plt.imshow(sample['image'][:,:,:].permute([2,1,0]).cpu().numpy())"
   ]
  },
  {
   "cell_type": "code",
   "execution_count": null,
   "metadata": {},
   "outputs": [],
   "source": []
  }
 ],
 "metadata": {
  "kernelspec": {
   "display_name": "Python 3",
   "language": "python",
   "name": "python3"
  },
  "language_info": {
   "codemirror_mode": {
    "name": "ipython",
    "version": 3
   },
   "file_extension": ".py",
   "mimetype": "text/x-python",
   "name": "python",
   "nbconvert_exporter": "python",
   "pygments_lexer": "ipython3",
   "version": "3.6.5"
  }
 },
 "nbformat": 4,
 "nbformat_minor": 2
}
