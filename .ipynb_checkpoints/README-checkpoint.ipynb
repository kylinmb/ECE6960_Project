{
 "cells": [
  {
   "cell_type": "markdown",
   "metadata": {},
   "source": [
    "### Contents\n",
    "In the zip file you should find the following files\n",
    "* Data Files: this contains the data the models were trained on. There is no need to unzip this file that is handled when a model is run.\n",
    "    * trussData.zip \n",
    "* Model Files: Multiple experiments were run for the model with different hyperparmaeters. The filenames include the data set, the convolution filter size, and the latent space dimensionality.\n",
    "    * truss_3x3_zdim2.ipynb\n",
    "        * truss_3x3_zdim2.ipynb\n",
    "        * truss_3x3_zdim4.ipynb\n",
    "        * truss_3x3_zdim8.ipynb\n",
    "        * truss_5x5_zdim2_visualize.ipynb - This file contains code for visualizing latent space\n",
    "        * truss_5x5_zdim2_noregression.ipynb - This file contains the VAE only (no regression mode)\n",
    "        * truss_5x5_zdim4.ipynb\n",
    "        * truss_5x5_zdim8.ipynb\n",
    "        * truss_7x7_zdim2.ipynb\n",
    "        * truss_7x7_zdim4.ipynb\n",
    "        * truss_7x7_zdim8_sample.ipynb - This file contains code for randomly sampling latent space\n",
    "        * truss_7x7_zdim8_nearest_neighbors.ipynb - This file contains code for nearest neighbors\n",
    "\n",
    "### Running The Notebooks\n",
    "The following steps assume that you already have jupyter set up and running\n",
    "1. Upload the notebook you want to run and trussData.zip file into the same location\n",
    "3. Load the notebook\n",
    "4. Select Cell -> Run All to run the notebook\n",
    "\n",
    "**If you want to run another notebook it is best to restart the kernal so that the GPU has enough memory.**"
   ]
  },
  {
   "cell_type": "code",
   "execution_count": null,
   "metadata": {},
   "outputs": [],
   "source": []
  }
 ],
 "metadata": {
  "kernelspec": {
   "display_name": "env_dir",
   "language": "python",
   "name": "env_dir"
  },
  "language_info": {
   "codemirror_mode": {
    "name": "ipython",
    "version": 3
   },
   "file_extension": ".py",
   "mimetype": "text/x-python",
   "name": "python",
   "nbconvert_exporter": "python",
   "pygments_lexer": "ipython3",
   "version": "3.6.5"
  }
 },
 "nbformat": 4,
 "nbformat_minor": 2
}
