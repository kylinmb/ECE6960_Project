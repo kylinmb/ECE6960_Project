{
 "cells": [
  {
   "cell_type": "markdown",
   "metadata": {},
   "source": [
    "### Initial Setup"
   ]
  },
  {
   "cell_type": "code",
   "execution_count": 2,
   "metadata": {},
   "outputs": [
    {
     "name": "stdout",
     "output_type": "stream",
     "text": [
      "Requirement already satisfied: matplotlib in /home/u0579755/env_dir/lib/python3.6/site-packages (3.0.2)\n",
      "Requirement already satisfied: kiwisolver>=1.0.1 in /home/u0579755/env_dir/lib/python3.6/site-packages (from matplotlib) (1.0.1)\n",
      "Requirement already satisfied: python-dateutil>=2.1 in /home/u0579755/env_dir/lib/python3.6/site-packages (from matplotlib) (2.7.5)\n",
      "Requirement already satisfied: numpy>=1.10.0 in /home/u0579755/env_dir/lib/python3.6/site-packages (from matplotlib) (1.16.0)\n",
      "Requirement already satisfied: pyparsing!=2.0.4,!=2.1.2,!=2.1.6,>=2.0.1 in /home/u0579755/env_dir/lib/python3.6/site-packages (from matplotlib) (2.3.1)\n",
      "Requirement already satisfied: cycler>=0.10 in /home/u0579755/env_dir/lib/python3.6/site-packages (from matplotlib) (0.10.0)\n",
      "Requirement already satisfied: setuptools in /home/u0579755/env_dir/lib/python3.6/site-packages (from kiwisolver>=1.0.1->matplotlib) (40.8.0)\n",
      "Requirement already satisfied: six>=1.5 in /home/u0579755/env_dir/lib/python3.6/site-packages (from python-dateutil>=2.1->matplotlib) (1.12.0)\n",
      "\u001b[33mYou are using pip version 19.0.3, however version 19.1 is available.\n",
      "You should consider upgrading via the 'pip install --upgrade pip' command.\u001b[0m\n",
      "Requirement already satisfied: scikit-image in /home/u0579755/env_dir/lib/python3.6/site-packages (0.15.0)\n",
      "Requirement already satisfied: PyWavelets>=0.4.0 in /home/u0579755/env_dir/lib/python3.6/site-packages (from scikit-image) (1.0.3)\n",
      "Requirement already satisfied: pillow>=4.3.0 in /home/u0579755/env_dir/lib/python3.6/site-packages (from scikit-image) (5.4.1)\n",
      "Requirement already satisfied: imageio>=2.0.1 in /home/u0579755/env_dir/lib/python3.6/site-packages (from scikit-image) (2.5.0)\n",
      "Requirement already satisfied: scipy>=0.17.0 in /home/u0579755/env_dir/lib/python3.6/site-packages (from scikit-image) (1.2.1)\n",
      "Requirement already satisfied: networkx>=2.0 in /home/u0579755/env_dir/lib/python3.6/site-packages (from scikit-image) (2.3)\n",
      "Requirement already satisfied: matplotlib!=3.0.0,>=2.0.0 in /home/u0579755/env_dir/lib/python3.6/site-packages (from scikit-image) (3.0.2)\n",
      "Requirement already satisfied: numpy>=1.9.1 in /home/u0579755/env_dir/lib/python3.6/site-packages (from PyWavelets>=0.4.0->scikit-image) (1.16.0)\n",
      "Requirement already satisfied: decorator>=4.3.0 in /home/u0579755/env_dir/lib/python3.6/site-packages (from networkx>=2.0->scikit-image) (4.3.2)\n",
      "Requirement already satisfied: python-dateutil>=2.1 in /home/u0579755/env_dir/lib/python3.6/site-packages (from matplotlib!=3.0.0,>=2.0.0->scikit-image) (2.7.5)\n",
      "Requirement already satisfied: cycler>=0.10 in /home/u0579755/env_dir/lib/python3.6/site-packages (from matplotlib!=3.0.0,>=2.0.0->scikit-image) (0.10.0)\n",
      "Requirement already satisfied: kiwisolver>=1.0.1 in /home/u0579755/env_dir/lib/python3.6/site-packages (from matplotlib!=3.0.0,>=2.0.0->scikit-image) (1.0.1)\n",
      "Requirement already satisfied: pyparsing!=2.0.4,!=2.1.2,!=2.1.6,>=2.0.1 in /home/u0579755/env_dir/lib/python3.6/site-packages (from matplotlib!=3.0.0,>=2.0.0->scikit-image) (2.3.1)\n",
      "Requirement already satisfied: six>=1.5 in /home/u0579755/env_dir/lib/python3.6/site-packages (from python-dateutil>=2.1->matplotlib!=3.0.0,>=2.0.0->scikit-image) (1.12.0)\n",
      "Requirement already satisfied: setuptools in /home/u0579755/env_dir/lib/python3.6/site-packages (from kiwisolver>=1.0.1->matplotlib!=3.0.0,>=2.0.0->scikit-image) (40.8.0)\n",
      "\u001b[33mYou are using pip version 19.0.3, however version 19.1 is available.\n",
      "You should consider upgrading via the 'pip install --upgrade pip' command.\u001b[0m\n",
      "Requirement already satisfied: scikit-learn in /home/u0579755/env_dir/lib/python3.6/site-packages (0.20.3)\n",
      "Requirement already satisfied: scipy>=0.13.3 in /home/u0579755/env_dir/lib/python3.6/site-packages (from scikit-learn) (1.2.1)\n",
      "Requirement already satisfied: numpy>=1.8.2 in /home/u0579755/env_dir/lib/python3.6/site-packages (from scikit-learn) (1.16.0)\n",
      "\u001b[33mYou are using pip version 19.0.3, however version 19.1 is available.\n",
      "You should consider upgrading via the 'pip install --upgrade pip' command.\u001b[0m\n"
     ]
    }
   ],
   "source": [
    "# Install\n",
    "!pip3 install matplotlib\n",
    "!pip3 install scikit-image\n",
    "!pip3 install scikit-learn"
   ]
  },
  {
   "cell_type": "code",
   "execution_count": 3,
   "metadata": {},
   "outputs": [],
   "source": [
    "# Import\n",
    "import os \n",
    "import numpy as np\n",
    "import matplotlib.pyplot as plt\n",
    "%matplotlib inline\n",
    "import zipfile \n",
    "from skimage import io \n",
    "from torch.utils.data import Dataset\n",
    "import torch \n",
    "import pandas as pd \n",
    "from torchvision import transforms\n",
    "import copy\n",
    "from sklearn.metrics import mean_squared_error"
   ]
  },
  {
   "cell_type": "code",
   "execution_count": 4,
   "metadata": {},
   "outputs": [],
   "source": [
    "# System Check\n",
    "try:\n",
    "  import google.colab\n",
    "  from google.colab import drive\n",
    "  from google.colab import files\n",
    "  IN_COLAB = True\n",
    "except:\n",
    "  IN_COLAB = False\n",
    "try:\n",
    "    hostname = !hostname\n",
    "    if 'lab' in hostname[0] and '.eng.utah.edu' in hostname[0]:\n",
    "        IN_CADE = True\n",
    "    else:\n",
    "        IN_CADE = False\n",
    "except:\n",
    "    IN_CADE = False\n",
    "\n",
    "assert(not IN_CADE or not IN_COLAB)"
   ]
  },
  {
   "cell_type": "code",
   "execution_count": 5,
   "metadata": {},
   "outputs": [],
   "source": [
    "# Find GPU\n",
    "def define_gpu_to_use(minimum_memory_mb = 3800):\n",
    "    gpu_to_use = None\n",
    "    try: \n",
    "        os.environ['CUDA_VISIBLE_DEVICES']\n",
    "        print('GPU already assigned before: ' + str(os.environ['CUDA_VISIBLE_DEVICES']))\n",
    "        return\n",
    "    except:\n",
    "        pass\n",
    "    torch.cuda.empty_cache()\n",
    "    for i in range(16):\n",
    "        free_memory = !nvidia-smi --query-gpu=memory.free -i $i --format=csv,nounits,noheader\n",
    "        if free_memory[0] == 'No devices were found':\n",
    "            break\n",
    "        free_memory = int(free_memory[0])\n",
    "        if free_memory>minimum_memory_mb-500:\n",
    "            gpu_to_use = i\n",
    "            break\n",
    "    if gpu_to_use is None:\n",
    "        print('Could not find any GPU available with the required free memory of ' +str(minimum_memory_mb) + 'MB. Please use a different system for this assignment.')\n",
    "    else:\n",
    "        os.environ['CUDA_VISIBLE_DEVICES'] = str(gpu_to_use)\n",
    "        print('Chosen GPU: ' + str(gpu_to_use))\n",
    "        x = torch.rand((256,1024,minimum_memory_mb-500)).cuda()\n",
    "        x = torch.rand((1,1)).cuda()\n",
    "        del x"
   ]
  },
  {
   "cell_type": "code",
   "execution_count": 6,
   "metadata": {},
   "outputs": [
    {
     "name": "stdout",
     "output_type": "stream",
     "text": [
      "Chosen GPU: 0\n"
     ]
    }
   ],
   "source": [
    "# Reserve GPU\n",
    "if IN_CADE:\n",
    "    define_gpu_to_use()"
   ]
  },
  {
   "cell_type": "markdown",
   "metadata": {},
   "source": [
    "### Load and Visualize Dataset"
   ]
  },
  {
   "cell_type": "code",
   "execution_count": 7,
   "metadata": {},
   "outputs": [],
   "source": [
    "# Opens zip file and places data in datsets folder\n",
    "def open_zip(filename):\n",
    "    zip_ref = zipfile.ZipFile(filename, 'r')\n",
    "    zip_ref.extractall('datasets')\n",
    "    zip_ref.close()"
   ]
  },
  {
   "cell_type": "code",
   "execution_count": 8,
   "metadata": {},
   "outputs": [],
   "source": [
    "# Return indexes to split data by for train, val, and test\n",
    "# Splits are 70% train, 10% val, 20% test\n",
    "def get_split(array_to_split, split):\n",
    "    np.random.seed(0)\n",
    "    np.random.shuffle(array_to_split)\n",
    "    np.random.seed()\n",
    "    if split == 'train':\n",
    "        array_to_split = array_to_split[:int(len(array_to_split)*0.7)]\n",
    "    elif split == 'val':\n",
    "        array_to_split = array_to_split[int(len(array_to_split)*0.7):int(len(array_to_split)*0.8)]\n",
    "    elif split == 'test':\n",
    "        array_to_split = array_to_split[int(len(array_to_split)*0.8):]\n",
    "    return array_to_split"
   ]
  },
  {
   "cell_type": "code",
   "execution_count": 9,
   "metadata": {},
   "outputs": [],
   "source": [
    "# Dataset class for SuperShape dataset\n",
    "class SuperShapeDataset(Dataset):\n",
    "    def __init__(self, csv_file, root_dir, split='train'):\n",
    "        self.root_dir = root_dir\n",
    "        self.split = split\n",
    "        # Get the split\n",
    "        all_attributes_frame = pd.read_csv(root_dir + csv_file)\n",
    "        ids = get_split(pd.unique(all_attributes_frame['ID']), split)\n",
    "        self.attributes_frame = all_attributes_frame[all_attributes_frame['ID'].isin(ids)]\n",
    "              \n",
    "    def __len__(self):\n",
    "        return len(self.attributes_frame)\n",
    "    \n",
    "    def __getitem__(self, idx):\n",
    "        image_name = os.path.join(self.root_dir, self.attributes_frame.iloc[idx, 1])\n",
    "        image = io.imread(image_name)\n",
    "        image = image.astype(np.float32)\n",
    "        image = image[:,:,:3]\n",
    "        image = image/255\n",
    "        image = np.swapaxes(image, 0, 1)\n",
    "        image = np.swapaxes(image, 0, 2)\n",
    "        attributes = self.attributes_frame.iloc[idx, 2:].values\n",
    "        attributes = attributes.astype('float')\n",
    "        attribute_names = self.attributes_frame.columns[2:].values\n",
    "        return torch.FloatTensor(image), torch.FloatTensor(attributes), list(attribute_names)"
   ]
  },
  {
   "cell_type": "code",
   "execution_count": 10,
   "metadata": {},
   "outputs": [],
   "source": [
    "# Open zip of dataset\n",
    "open_zip('supershapeData.zip')"
   ]
  },
  {
   "cell_type": "code",
   "execution_count": 11,
   "metadata": {},
   "outputs": [],
   "source": [
    "# Create train, val, and test datasets\n",
    "train_dataset = SuperShapeDataset('supershape_data.csv', 'datasets/supershapeData/')\n",
    "val_dataset = SuperShapeDataset('supershape_data.csv', 'datasets/supershapeData/', split='val')\n",
    "test_dataset = SuperShapeDataset('supershape_data.csv', 'datasets/supershapeData/', split='test')"
   ]
  },
  {
   "cell_type": "code",
   "execution_count": 12,
   "metadata": {},
   "outputs": [
    {
     "data": {
      "image/png": "[encoded data removed]",
      "text/plain": [
       "<Figure size 432x288 with 1 Axes>"
      ]
     },
     "metadata": {
      "needs_background": "light"
     },
     "output_type": "display_data"
    },
    {
     "data": {
      "image/png": "[encoded data removed]",
      "text/plain": [
       "<Figure size 432x288 with 1 Axes>"
      ]
     },
     "metadata": {
      "needs_background": "light"
     },
     "output_type": "display_data"
    }
   ],
   "source": [
    "# Visualing a few cases of the training set\n",
    "for batch_idx, (image, attribute, name) in enumerate(train_dataset):\n",
    "    if batch_idx%50 == 0: \n",
    "        plt.figure()\n",
    "        plt.title(str(name) + ' ' + str(attribute.cpu().numpy()))\n",
    "        plt.imshow(image[:,:,:].permute([1, 2, 0]).cpu().numpy())"
   ]
  },
  {
   "cell_type": "code",
   "execution_count": 13,
   "metadata": {},
   "outputs": [],
   "source": [
    "# Calculates L2 for images and MSE for regression - want both close to 0\n",
    "def get_score_model(model, data_loader):\n",
    "    model.eval()\n",
    "    \n",
    "    with torch.no_grad():\n",
    "        distances = []\n",
    "        mse = []\n",
    "        for image, attribute, name in data_loader:\n",
    "            image = image.cuda()\n",
    "            recon, mu, logvar, reg = model(image)\n",
    "            # Reconstruction Score\n",
    "            euclidean_dist = torch.pow(torch.sum(torch.pow((image - recon), 2)), 0.5)\n",
    "            distances.append(euclidean_dist.cpu().numpy())\n",
    "            # Regression Score\n",
    "            y_true = attribute.cpu().numpy()\n",
    "            y_pred = reg.cpu().numpy()         \n",
    "            mse.append(mean_squared_error(y_true, y_pred))\n",
    "    \n",
    "    return np.mean(distances), np.mean(mse)"
   ]
  },
  {
   "cell_type": "code",
   "execution_count": 14,
   "metadata": {},
   "outputs": [],
   "source": [
    "# Classes to create VAE, ability to change kernel_size of filters for convolution layers\n",
    "# and the latent representation dim\n",
    "class ConvBlock(torch.nn.Module):\n",
    "    def __init__(self, in_channels, out_channels, kernel_size):\n",
    "        super(ConvBlock, self).__init__()\n",
    "        padding = int((kernel_size - 1) / 2)\n",
    "        self.conv = torch.nn.Conv2d(in_channels=in_channels, out_channels=out_channels, kernel_size=kernel_size, padding=padding)\n",
    "        self.batch = torch.nn.BatchNorm2d(num_features=out_channels)\n",
    "        self.relu = torch.nn.ReLU()\n",
    "        \n",
    "    def forward(self, x):\n",
    "        x = self.conv(x)\n",
    "        x = self.batch(x)\n",
    "        x = self.relu(x)\n",
    "        return x\n",
    "\n",
    "class TransBlock(torch.nn.Module):\n",
    "    def __init__(self, in_channels, out_channels):\n",
    "        super(TransBlock, self).__init__()\n",
    "        self.convT = torch.nn.ConvTranspose2d(in_channels=in_channels, out_channels=out_channels, kernel_size=2, stride=2)\n",
    "        \n",
    "    def forward(self, x):\n",
    "        x = self.convT(x)\n",
    "        return x\n",
    "\n",
    "class Flatten(torch.nn.Module):\n",
    "    def forward(self, x):\n",
    "        return x.view(x.size(0), -1)\n",
    "\n",
    "class UnFlatten(torch.nn.Module):\n",
    "    def forward(self, x):\n",
    "        return x.view(-1, 32, 5, 10) # see if there is a way to not have this hardcoded"
   ]
  },
  {
   "cell_type": "code",
   "execution_count": 15,
   "metadata": {},
   "outputs": [],
   "source": [
    "# VAE with Regression - The reconstruction and regression are done from the\n",
    "# latent variables calculated from the reparametrization (distribution)\n",
    "class VAE_REG(torch.nn.Module):\n",
    "    def __init__(self, kernel_size, z_dim):\n",
    "        super(VAE_REG, self).__init__()\n",
    "        self.encoder = torch.nn.Sequential(\n",
    "        ConvBlock(in_channels=3, out_channels=8, kernel_size=kernel_size),\n",
    "        ConvBlock(in_channels=8, out_channels=8, kernel_size=kernel_size),\n",
    "        torch.nn.MaxPool2d(kernel_size=2),\n",
    "        ConvBlock(in_channels=8, out_channels=16, kernel_size=kernel_size),\n",
    "        ConvBlock(in_channels=16, out_channels=16, kernel_size=kernel_size),\n",
    "        torch.nn.MaxPool2d(kernel_size=2),\n",
    "        ConvBlock(in_channels=16, out_channels=32, kernel_size=kernel_size),\n",
    "        ConvBlock(in_channels=32, out_channels=32, kernel_size=kernel_size),\n",
    "        torch.nn.MaxPool2d(kernel_size=2),\n",
    "        Flatten()) \n",
    "        \n",
    "        self.mu = torch.nn.Linear(1600, z_dim)\n",
    "        self.logvar = torch.nn.Linear(1600, z_dim)\n",
    "        self.fc = torch.nn.Linear(z_dim, 1600)\n",
    "        \n",
    "        self.decoder = torch.nn.Sequential(\n",
    "        UnFlatten(),\n",
    "        TransBlock(in_channels=32, out_channels=32),\n",
    "        ConvBlock(in_channels=32, out_channels=32, kernel_size=kernel_size),\n",
    "        ConvBlock(in_channels=32, out_channels=16, kernel_size=kernel_size),\n",
    "        TransBlock(in_channels=16, out_channels=16),\n",
    "        ConvBlock(in_channels=16, out_channels=16, kernel_size=kernel_size),\n",
    "        ConvBlock(in_channels=16, out_channels=8, kernel_size=kernel_size),\n",
    "        TransBlock(in_channels=8, out_channels=8),\n",
    "        ConvBlock(in_channels=8, out_channels=8, kernel_size=kernel_size),\n",
    "        ConvBlock(in_channels=8, out_channels=3, kernel_size=kernel_size))\n",
    "        \n",
    "        self.regression = torch.nn.Sequential(\n",
    "            torch.nn.Linear(in_features=z_dim, out_features=4),\n",
    "            torch.nn.ReLU(),\n",
    "            torch.nn.Linear(in_features=4, out_features=8),\n",
    "            torch.nn.ReLU(),\n",
    "            torch.nn.Linear(in_features=8, out_features=10),\n",
    "            torch.nn.ReLU(),\n",
    "            torch.nn.Linear(in_features=10, out_features=13))\n",
    "            \n",
    "    def reparametrize(self, mu, logvar):\n",
    "        std = logvar.mul(0.5).exp_()\n",
    "        esp = torch.cuda.FloatTensor(mu.size()).normal_()\n",
    "        z = mu + std * esp\n",
    "        return z\n",
    "    \n",
    "    def bottleneck(self, x):\n",
    "        mu, logvar = self.mu(x), self.logvar(x)\n",
    "        z = self.reparametrize(mu, logvar)\n",
    "        return z, mu, logvar\n",
    "    \n",
    "    def representation(self, x):\n",
    "        return self.bottleneck(self.encoder(x))[0]\n",
    "    \n",
    "    def forward(self, x):\n",
    "        x = self.encoder(x)\n",
    "        z, mu, logvar = self.bottleneck(x) # z is latent representation\n",
    "        x = self.fc(z)\n",
    "        x = torch.sigmoid(self.decoder(x)) # VAE output\n",
    "        r = self.regression(z) # Regression output\n",
    "        return x, mu, logvar, r"
   ]
  },
  {
   "cell_type": "code",
   "execution_count": 16,
   "metadata": {},
   "outputs": [],
   "source": [
    "# Loss function for this task, combines reconstruction and KL for the image task and the MSELoss\n",
    "# for the regression task\n",
    "def loss_function(reconstruction, image, mu, logvar, attributes, r, batch_size):\n",
    "    bce = torch.nn.BCELoss()\n",
    "    reconstruction_loss = bce(reconstruction, image)\n",
    "    kl_loss = -0.5 * torch.sum(1 + logvar - mu.pow(2) - logvar.exp())\n",
    "    kl_loss /=  batch_size * image.shape[1] * image.shape[2] * image.shape[3]\n",
    "    reg_loss =  torch.nn.MSELoss()\n",
    "    r_loss = reg_loss(attributes, r)\n",
    "    return reconstruction_loss, kl_loss, r_loss"
   ]
  },
  {
   "cell_type": "code",
   "execution_count": 17,
   "metadata": {},
   "outputs": [
    {
     "name": "stdout",
     "output_type": "stream",
     "text": [
      "Starting Training!\n",
      "\n",
      "Epoch: 0\n"
     ]
    },
    {
     "ename": "RuntimeError",
     "evalue": "reduce failed to synchronize: device-side assert triggered",
     "output_type": "error",
     "traceback": [
      "\u001b[0;31m---------------------------------------------------------------------------\u001b[0m",
      "\u001b[0;31mRuntimeError\u001b[0m                              Traceback (most recent call last)",
      "\u001b[0;32m<ipython-input-17-29cbe6e5acc0>\u001b[0m in \u001b[0;36m<module>\u001b[0;34m\u001b[0m\n\u001b[1;32m     41\u001b[0m         \u001b[0mattribute\u001b[0m \u001b[0;34m=\u001b[0m \u001b[0mattribute\u001b[0m\u001b[0;34m.\u001b[0m\u001b[0mcuda\u001b[0m\u001b[0;34m(\u001b[0m\u001b[0;34m)\u001b[0m\u001b[0;34m\u001b[0m\u001b[0m\n\u001b[1;32m     42\u001b[0m         \u001b[0mrecon\u001b[0m\u001b[0;34m,\u001b[0m \u001b[0mmu\u001b[0m\u001b[0;34m,\u001b[0m \u001b[0mlogvar\u001b[0m\u001b[0;34m,\u001b[0m \u001b[0mreg\u001b[0m \u001b[0;34m=\u001b[0m \u001b[0mmodel\u001b[0m\u001b[0;34m(\u001b[0m\u001b[0mimage\u001b[0m\u001b[0;34m)\u001b[0m\u001b[0;34m\u001b[0m\u001b[0m\n\u001b[0;32m---> 43\u001b[0;31m         \u001b[0mreconstruction_loss\u001b[0m\u001b[0;34m,\u001b[0m \u001b[0mkl_loss\u001b[0m\u001b[0;34m,\u001b[0m \u001b[0mreg_loss\u001b[0m \u001b[0;34m=\u001b[0m \u001b[0mloss_function\u001b[0m\u001b[0;34m(\u001b[0m\u001b[0mrecon\u001b[0m\u001b[0;34m,\u001b[0m \u001b[0mimage\u001b[0m\u001b[0;34m,\u001b[0m \u001b[0mmu\u001b[0m\u001b[0;34m,\u001b[0m \u001b[0mlogvar\u001b[0m\u001b[0;34m,\u001b[0m \u001b[0mattribute\u001b[0m\u001b[0;34m,\u001b[0m \u001b[0mreg\u001b[0m\u001b[0;34m,\u001b[0m \u001b[0mBATCH_SIZE\u001b[0m\u001b[0;34m)\u001b[0m\u001b[0;34m\u001b[0m\u001b[0m\n\u001b[0m\u001b[1;32m     44\u001b[0m         \u001b[0mloss\u001b[0m \u001b[0;34m=\u001b[0m \u001b[0mreconstruction_loss\u001b[0m \u001b[0;34m+\u001b[0m \u001b[0mkl_loss\u001b[0m \u001b[0;34m+\u001b[0m \u001b[0mreg_loss\u001b[0m\u001b[0;34m\u001b[0m\u001b[0m\n\u001b[1;32m     45\u001b[0m         \u001b[0mloss\u001b[0m\u001b[0;34m.\u001b[0m\u001b[0mbackward\u001b[0m\u001b[0;34m(\u001b[0m\u001b[0;34m)\u001b[0m\u001b[0;34m\u001b[0m\u001b[0m\n",
      "\u001b[0;32m<ipython-input-16-a5172c540fcb>\u001b[0m in \u001b[0;36mloss_function\u001b[0;34m(reconstruction, image, mu, logvar, attributes, r, batch_size)\u001b[0m\n\u001b[1;32m      2\u001b[0m \u001b[0;31m# for the regression task\u001b[0m\u001b[0;34m\u001b[0m\u001b[0;34m\u001b[0m\u001b[0m\n\u001b[1;32m      3\u001b[0m \u001b[0;32mdef\u001b[0m \u001b[0mloss_function\u001b[0m\u001b[0;34m(\u001b[0m\u001b[0mreconstruction\u001b[0m\u001b[0;34m,\u001b[0m \u001b[0mimage\u001b[0m\u001b[0;34m,\u001b[0m \u001b[0mmu\u001b[0m\u001b[0;34m,\u001b[0m \u001b[0mlogvar\u001b[0m\u001b[0;34m,\u001b[0m \u001b[0mattributes\u001b[0m\u001b[0;34m,\u001b[0m \u001b[0mr\u001b[0m\u001b[0;34m,\u001b[0m \u001b[0mbatch_size\u001b[0m\u001b[0;34m)\u001b[0m\u001b[0;34m:\u001b[0m\u001b[0;34m\u001b[0m\u001b[0m\n\u001b[0;32m----> 4\u001b[0;31m     \u001b[0mreconstruction_loss\u001b[0m \u001b[0;34m=\u001b[0m \u001b[0mtorch\u001b[0m\u001b[0;34m.\u001b[0m\u001b[0mnn\u001b[0m\u001b[0;34m.\u001b[0m\u001b[0mfunctional\u001b[0m\u001b[0;34m.\u001b[0m\u001b[0mbinary_cross_entropy\u001b[0m\u001b[0;34m(\u001b[0m\u001b[0mreconstruction\u001b[0m\u001b[0;34m,\u001b[0m \u001b[0mimage\u001b[0m\u001b[0;34m)\u001b[0m\u001b[0;34m\u001b[0m\u001b[0m\n\u001b[0m\u001b[1;32m      5\u001b[0m     \u001b[0mkl_loss\u001b[0m \u001b[0;34m=\u001b[0m \u001b[0;34m-\u001b[0m\u001b[0;36m0.5\u001b[0m \u001b[0;34m*\u001b[0m \u001b[0mtorch\u001b[0m\u001b[0;34m.\u001b[0m\u001b[0msum\u001b[0m\u001b[0;34m(\u001b[0m\u001b[0;36m1\u001b[0m \u001b[0;34m+\u001b[0m \u001b[0mlogvar\u001b[0m \u001b[0;34m-\u001b[0m \u001b[0mmu\u001b[0m\u001b[0;34m.\u001b[0m\u001b[0mpow\u001b[0m\u001b[0;34m(\u001b[0m\u001b[0;36m2\u001b[0m\u001b[0;34m)\u001b[0m \u001b[0;34m-\u001b[0m \u001b[0mlogvar\u001b[0m\u001b[0;34m.\u001b[0m\u001b[0mexp\u001b[0m\u001b[0;34m(\u001b[0m\u001b[0;34m)\u001b[0m\u001b[0;34m)\u001b[0m\u001b[0;34m\u001b[0m\u001b[0m\n\u001b[1;32m      6\u001b[0m     \u001b[0mkl_loss\u001b[0m \u001b[0;34m/=\u001b[0m  \u001b[0mbatch_size\u001b[0m \u001b[0;34m*\u001b[0m \u001b[0mimage\u001b[0m\u001b[0;34m.\u001b[0m\u001b[0mshape\u001b[0m\u001b[0;34m[\u001b[0m\u001b[0;36m1\u001b[0m\u001b[0;34m]\u001b[0m \u001b[0;34m*\u001b[0m \u001b[0mimage\u001b[0m\u001b[0;34m.\u001b[0m\u001b[0mshape\u001b[0m\u001b[0;34m[\u001b[0m\u001b[0;36m2\u001b[0m\u001b[0;34m]\u001b[0m \u001b[0;34m*\u001b[0m \u001b[0mimage\u001b[0m\u001b[0;34m.\u001b[0m\u001b[0mshape\u001b[0m\u001b[0;34m[\u001b[0m\u001b[0;36m3\u001b[0m\u001b[0;34m]\u001b[0m\u001b[0;34m\u001b[0m\u001b[0m\n",
      "\u001b[0;32m~/env_dir/lib/python3.6/site-packages/torch/nn/functional.py\u001b[0m in \u001b[0;36mbinary_cross_entropy\u001b[0;34m(input, target, weight, size_average, reduce, reduction)\u001b[0m\n\u001b[1;32m   2025\u001b[0m \u001b[0;34m\u001b[0m\u001b[0m\n\u001b[1;32m   2026\u001b[0m     return torch._C._nn.binary_cross_entropy(\n\u001b[0;32m-> 2027\u001b[0;31m         input, target, weight, reduction_enum)\n\u001b[0m\u001b[1;32m   2028\u001b[0m \u001b[0;34m\u001b[0m\u001b[0m\n\u001b[1;32m   2029\u001b[0m \u001b[0;34m\u001b[0m\u001b[0m\n",
      "\u001b[0;31mRuntimeError\u001b[0m: reduce failed to synchronize: device-side assert triggered"
     ]
    }
   ],
   "source": [
    "# VAE conv kernel size = 3 z_dim=2\n",
    "BATCH_SIZE = 5\n",
    "train_loader = torch.utils.data.DataLoader(train_dataset, batch_size=BATCH_SIZE, shuffle=True, num_workers=0)\n",
    "train_loader_score = torch.utils.data.DataLoader(train_dataset, batch_size=1, shuffle=True, num_workers=0)\n",
    "val_loader = torch.utils.data.DataLoader(val_dataset, batch_size=1, shuffle=False, num_workers=0)\n",
    "test_loader = torch.utils.data.DataLoader(test_dataset, batch_size=1, shuffle=False, num_workers=0)\n",
    "\n",
    "#instantiate your model here:\n",
    "model = VAE_REG(kernel_size=3, z_dim=2)\n",
    "model = model.cuda()\n",
    "\n",
    "optimizer = torch.optim.SGD(model.parameters(), lr=0.01, momentum=0.9, nesterov=True)\n",
    "n_epochs = 200\n",
    "# Learning rate is reduced after plateauing to stabilize the end of training.\n",
    "# use the learning rate scheduler as defined here. Example on how to integrate it to training in\n",
    "# https://pytorch.org/docs/stable/optim.html#torch.optim.lr_scheduler.StepLR\n",
    "scheduler = torch.optim.lr_scheduler.StepLR(optimizer, step_size=150, gamma=0.1)\n",
    "\n",
    "train_recon_scores = []\n",
    "train_r2_scores = []\n",
    "val_recon_scores = []\n",
    "val_r2_scores = []\n",
    "target_score = 35.5 # Want score to be less than this\n",
    "best_score = 50\n",
    "best_model = copy.deepcopy(model)\n",
    "\n",
    "print('Starting Training!')\n",
    "for epoch in range(n_epochs):\n",
    "    print('\\nEpoch: ' + str(epoch))\n",
    "    scheduler.step()\n",
    "    \n",
    "    model.train()\n",
    "    \n",
    "    total_losses = []\n",
    "    reconstruction_losses = []\n",
    "    kl_losses = []\n",
    "    reg_losses = []\n",
    "    for image, attribute, name in train_loader:\n",
    "        optimizer.zero_grad()\n",
    "        image = image.cuda()\n",
    "        attribute = attribute.cuda()\n",
    "        recon, mu, logvar, reg = model(image)\n",
    "        reconstruction_loss, kl_loss, reg_loss = loss_function(recon, image, mu, logvar, attribute, reg, BATCH_SIZE)\n",
    "        loss = reconstruction_loss + kl_loss + reg_loss\n",
    "        loss.backward()\n",
    "        optimizer.step()\n",
    "        \n",
    "        total_losses.append(loss.item())\n",
    "        reconstruction_losses.append(reconstruction_loss.item())\n",
    "        kl_losses.append(kl_loss.item())\n",
    "        reg_losses.append(reg_loss.item())\n",
    "        \n",
    "    print('Total Loss: ' + str(np.mean(total_losses)))\n",
    "    print('Reconstruction Loss: ' + str(np.mean(reconstruction_losses)))\n",
    "    print('KL Loss: ' + str(np.mean(kl_losses)))\n",
    "    print('Regression Loss: ' + str(np.mean(reg_losses)))\n",
    "    \n",
    "    # Get training data accuracy\n",
    "    train_recon_score, train_r2 = get_score_model(model, train_loader_score)\n",
    "    print('Trainig Reconstruction Score: ' + str(train_recon_score))\n",
    "    print('Training MSE Score: ' + str(train_r2))\n",
    "    train_recon_scores.append(train_recon_score)\n",
    "    train_r2_scores.append(train_r2)\n",
    "    \n",
    "    # Get validation data accuracy\n",
    "    val_recon_score, val_r2 = get_score_model(model, val_loader)\n",
    "    print('Validation Reconstruction Score: ' + str(val_recon_score))\n",
    "    print('Validation MSE Score: ' + str(val_r2))\n",
    "    val_recon_scores.append(val_recon_score)\n",
    "    val_r2_scores.append(val_r2)\n",
    "    \n",
    "    # Save Best Model - Based on Reconstruction Score\n",
    "    if val_recon_score < target_score and val_recon_score < best_score:\n",
    "        best_score = val_recon_score\n",
    "        best_model = copy.deepcopy(model)\n",
    "        print('New Best Model Saved!')"
   ]
  },
  {
   "cell_type": "code",
   "execution_count": null,
   "metadata": {},
   "outputs": [],
   "source": [
    "# Plot Training and Validation Score\n",
    "plt.plot(range(n_epochs), train_recon_scores, 'b', range(n_epochs), val_recon_scores, 'r')\n",
    "plt.title('L2 Distance for VAE')\n",
    "plt.legend(['Training Data', 'Validation Data'])\n",
    "plt.xlabel('Epoch Number')\n",
    "plt.ylabel('L2 Distance Score')\n",
    "plt.show()"
   ]
  },
  {
   "cell_type": "code",
   "execution_count": null,
   "metadata": {},
   "outputs": [],
   "source": [
    "# Plot Training and Validation Score\n",
    "plt.plot(range(n_epochs), train_r2_scores, 'b', range(n_epochs), val_r2_scores, 'r')\n",
    "plt.title('MSE for VAE')\n",
    "plt.legend(['Training Data', 'Validation Data'])\n",
    "plt.xlabel('Epoch Number')\n",
    "plt.ylabel('MSE Score')\n",
    "plt.show()"
   ]
  },
  {
   "cell_type": "code",
   "execution_count": null,
   "metadata": {
    "scrolled": true
   },
   "outputs": [],
   "source": [
    "# Show examples of the ground truth image and the reconstruction after\n",
    "# a pass through the autoencoder\n",
    "def get_example_outputs(model, data_loader):\n",
    "    model.eval()\n",
    "    ground_truth = []\n",
    "    model_output = []\n",
    "    with torch.no_grad():\n",
    "        for image, attribute, name in data_loader:\n",
    "            image = image.cuda()\n",
    "            recon, mu, var, r = model(image)\n",
    "            model_output.append(recon)\n",
    "            ground_truth.append(image)\n",
    "            if len(model_output) == 2:\n",
    "                return model_output, ground_truth\n",
    "            \n",
    "model_out, gt = get_example_outputs(model, val_loader)\n",
    "for idx in range(2):\n",
    "    plt.figure()\n",
    "    plt.title(\"Reconstruction \" + str(idx))\n",
    "    model_out[idx] = model_out[idx].view(model_out[idx].shape[1], model_out[idx].shape[2], model_out[idx].shape[3])\n",
    "    plt.imshow(model_out[idx].permute([1, 2, 0]).cpu().numpy())\n",
    "    plt.figure()\n",
    "    plt.title(\"Original Image \" + str(idx))\n",
    "    gt[idx] = gt[idx].view(gt[idx].shape[1], gt[idx].shape[2], gt[idx].shape[3])\n",
    "    plt.imshow(gt[idx].permute([1, 2, 0]).cpu().numpy())"
   ]
  },
  {
   "cell_type": "code",
   "execution_count": null,
   "metadata": {},
   "outputs": [],
   "source": [
    "test_recon_score, test_mse_score = get_score_model(best_model, test_loader)\n",
    "print('Test L2 Score: ' + str(test_recon_score))\n",
    "print('Test MSE Score: ' + str(test_mse_score))"
   ]
  }
 ],
 "metadata": {
  "kernelspec": {
   "display_name": "Python 3",
   "language": "python",
   "name": "python3"
  },
  "language_info": {
   "codemirror_mode": {
    "name": "ipython",
    "version": 3
   },
   "file_extension": ".py",
   "mimetype": "text/x-python",
   "name": "python",
   "nbconvert_exporter": "python",
   "pygments_lexer": "ipython3",
   "version": "3.6.5"
  }
 },
 "nbformat": 4,
 "nbformat_minor": 2
}
